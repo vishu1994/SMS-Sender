{
 "cells": [
  {
   "cell_type": "code",
   "execution_count": 6,
   "metadata": {},
   "outputs": [],
   "source": [
    "#!pip3 install --user twilio"
   ]
  },
  {
   "cell_type": "code",
   "execution_count": 1,
   "metadata": {},
   "outputs": [],
   "source": [
    "from twilio.rest import Client"
   ]
  },
  {
   "cell_type": "code",
   "execution_count": 5,
   "metadata": {},
   "outputs": [
    {
     "name": "stdout",
     "output_type": "stream",
     "text": [
      "SM1b2a08ee8af54ae28c88d18d4dd9bd57\n"
     ]
    }
   ],
   "source": [
    "import requests\n",
    "account_sid = 'AC68921a5fb3b4889ed67634145d6778de'\n",
    "auth_token = 'b21c0621edf50f07474711a2b7e8eac7'\n",
    "client = Client(account_sid, auth_token)\n",
    "\n",
    "Message = 'Hi, I am vishal pandey.I tried sending a sms from twilio API..It is successfull'\n",
    "#formulate the message that will be sent\n",
    "message = client.messages.create(\n",
    "    #Replace the number to which you want to send a sms...\n",
    "    to=\"+91xxxxxxxxxx\",\n",
    "    #This number we get from twilio...\n",
    "    from_=\"+12027593123\",\n",
    "    body=Message)\n",
    "print(message.sid)"
   ]
  },
  {
   "cell_type": "code",
   "execution_count": null,
   "metadata": {},
   "outputs": [],
   "source": []
  }
 ],
 "metadata": {
  "kernelspec": {
   "display_name": "Python 3",
   "language": "python",
   "name": "python3"
  },
  "language_info": {
   "codemirror_mode": {
    "name": "ipython",
    "version": 3
   },
   "file_extension": ".py",
   "mimetype": "text/x-python",
   "name": "python",
   "nbconvert_exporter": "python",
   "pygments_lexer": "ipython3",
   "version": "3.6.8"
  }
 },
 "nbformat": 4,
 "nbformat_minor": 2
}
